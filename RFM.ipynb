{
 "cells": [
  {
   "cell_type": "code",
   "execution_count": 1,
   "id": "7a5339e0",
   "metadata": {},
   "outputs": [],
   "source": [
    "import pandas as pd\n",
    "import datetime as dt\n",
    "import numpy as np\n",
    "import matplotlib.pyplot as plt\n"
   ]
  },
  {
   "cell_type": "raw",
   "id": "ba38ef4b",
   "metadata": {},
   "source": [
    "df = pd.read_csv('C:\\Users\\Amol Tare\\Desktop\\Retail_Data_Response.csv', parse_dates=['trans_date'])"
   ]
  },
  {
   "cell_type": "code",
   "execution_count": 17,
   "id": "eceace83",
   "metadata": {},
   "outputs": [],
   "source": [
    "df = pd.read_csv(r'E:\\Retail_Data_Transactions.csv', parse_dates=['trans_date'])"
   ]
  },
  {
   "cell_type": "code",
   "execution_count": 10,
   "id": "c8f658ac",
   "metadata": {},
   "outputs": [
    {
     "data": {
      "text/html": [
       "<div>\n",
       "<style scoped>\n",
       "    .dataframe tbody tr th:only-of-type {\n",
       "        vertical-align: middle;\n",
       "    }\n",
       "\n",
       "    .dataframe tbody tr th {\n",
       "        vertical-align: top;\n",
       "    }\n",
       "\n",
       "    .dataframe thead th {\n",
       "        text-align: right;\n",
       "    }\n",
       "</style>\n",
       "<table border=\"1\" class=\"dataframe\">\n",
       "  <thead>\n",
       "    <tr style=\"text-align: right;\">\n",
       "      <th></th>\n",
       "      <th>customer_id</th>\n",
       "      <th>trans_date</th>\n",
       "      <th>tran_amount</th>\n",
       "    </tr>\n",
       "  </thead>\n",
       "  <tbody>\n",
       "    <tr>\n",
       "      <th>0</th>\n",
       "      <td>CS5295</td>\n",
       "      <td>11-Feb-13</td>\n",
       "      <td>35</td>\n",
       "    </tr>\n",
       "    <tr>\n",
       "      <th>1</th>\n",
       "      <td>CS4768</td>\n",
       "      <td>15-Mar-15</td>\n",
       "      <td>39</td>\n",
       "    </tr>\n",
       "    <tr>\n",
       "      <th>2</th>\n",
       "      <td>CS2122</td>\n",
       "      <td>26-Feb-13</td>\n",
       "      <td>52</td>\n",
       "    </tr>\n",
       "  </tbody>\n",
       "</table>\n",
       "</div>"
      ],
      "text/plain": [
       "  customer_id trans_date  tran_amount\n",
       "0      CS5295  11-Feb-13           35\n",
       "1      CS4768  15-Mar-15           39\n",
       "2      CS2122  26-Feb-13           52"
      ]
     },
     "execution_count": 10,
     "metadata": {},
     "output_type": "execute_result"
    }
   ],
   "source": [
    "df.head(3)"
   ]
  },
  {
   "cell_type": "code",
   "execution_count": 11,
   "id": "52826500",
   "metadata": {},
   "outputs": [
    {
     "name": "stdout",
     "output_type": "stream",
     "text": [
      "<class 'pandas.core.frame.DataFrame'>\n",
      "RangeIndex: 125000 entries, 0 to 124999\n",
      "Data columns (total 3 columns):\n",
      " #   Column       Non-Null Count   Dtype \n",
      "---  ------       --------------   ----- \n",
      " 0   customer_id  125000 non-null  object\n",
      " 1   trans_date   125000 non-null  object\n",
      " 2   tran_amount  125000 non-null  int64 \n",
      "dtypes: int64(1), object(2)\n",
      "memory usage: 2.9+ MB\n"
     ]
    }
   ],
   "source": [
    "df.info()"
   ]
  },
  {
   "cell_type": "code",
   "execution_count": 14,
   "id": "a2dbdd97",
   "metadata": {},
   "outputs": [
    {
     "name": "stdout",
     "output_type": "stream",
     "text": [
      "01-Apr-12 31-Oct-14\n"
     ]
    }
   ],
   "source": [
    "print(df['trans_date'].min(), df['trans_date'].max())"
   ]
  },
  {
   "cell_type": "code",
   "execution_count": 18,
   "id": "7cd9a563",
   "metadata": {},
   "outputs": [
    {
     "data": {
      "text/html": [
       "<div>\n",
       "<style scoped>\n",
       "    .dataframe tbody tr th:only-of-type {\n",
       "        vertical-align: middle;\n",
       "    }\n",
       "\n",
       "    .dataframe tbody tr th {\n",
       "        vertical-align: top;\n",
       "    }\n",
       "\n",
       "    .dataframe thead th {\n",
       "        text-align: right;\n",
       "    }\n",
       "</style>\n",
       "<table border=\"1\" class=\"dataframe\">\n",
       "  <thead>\n",
       "    <tr style=\"text-align: right;\">\n",
       "      <th></th>\n",
       "      <th>customer_id</th>\n",
       "      <th>trans_date</th>\n",
       "      <th>tran_amount</th>\n",
       "      <th>hist</th>\n",
       "    </tr>\n",
       "  </thead>\n",
       "  <tbody>\n",
       "    <tr>\n",
       "      <th>0</th>\n",
       "      <td>CS5295</td>\n",
       "      <td>2013-02-11</td>\n",
       "      <td>35</td>\n",
       "      <td>779.0</td>\n",
       "    </tr>\n",
       "    <tr>\n",
       "      <th>1</th>\n",
       "      <td>CS4768</td>\n",
       "      <td>2015-03-15</td>\n",
       "      <td>39</td>\n",
       "      <td>17.0</td>\n",
       "    </tr>\n",
       "    <tr>\n",
       "      <th>2</th>\n",
       "      <td>CS2122</td>\n",
       "      <td>2013-02-26</td>\n",
       "      <td>52</td>\n",
       "      <td>764.0</td>\n",
       "    </tr>\n",
       "    <tr>\n",
       "      <th>3</th>\n",
       "      <td>CS1217</td>\n",
       "      <td>2011-11-16</td>\n",
       "      <td>99</td>\n",
       "      <td>1232.0</td>\n",
       "    </tr>\n",
       "    <tr>\n",
       "      <th>4</th>\n",
       "      <td>CS1850</td>\n",
       "      <td>2013-11-20</td>\n",
       "      <td>78</td>\n",
       "      <td>497.0</td>\n",
       "    </tr>\n",
       "  </tbody>\n",
       "</table>\n",
       "</div>"
      ],
      "text/plain": [
       "  customer_id trans_date  tran_amount    hist\n",
       "0      CS5295 2013-02-11           35   779.0\n",
       "1      CS4768 2015-03-15           39    17.0\n",
       "2      CS2122 2013-02-26           52   764.0\n",
       "3      CS1217 2011-11-16           99  1232.0\n",
       "4      CS1850 2013-11-20           78   497.0"
      ]
     },
     "execution_count": 18,
     "metadata": {},
     "output_type": "execute_result"
    }
   ],
   "source": [
    "sd = dt.datetime(2015,4,1)\n",
    "df['hist']=sd - df['trans_date']\n",
    "df['hist'].astype('timedelta64[D]')\n",
    "df['hist']=df['hist'] / np.timedelta64(1, 'D')\n",
    "df.head()\n"
   ]
  },
  {
   "cell_type": "code",
   "execution_count": 19,
   "id": "16c8664a",
   "metadata": {},
   "outputs": [],
   "source": [
    "rfmTable = df.groupby('customer_id').agg({'hist': lambda x:x.min(), # Recency\n",
    "                                        'customer_id': lambda x: len(x),               # Frequency\n",
    "                                        'tran_amount': lambda x: x.sum()})          # Monetary Value\n",
    "\n",
    "rfmTable.rename(columns={'hist': 'recency', \n",
    "                         'customer_id': 'frequency', \n",
    "                         'tran_amount': 'monetary_value'}, inplace=True)\n",
    "\n"
   ]
  },
  {
   "cell_type": "code",
   "execution_count": 20,
   "id": "39c3c757",
   "metadata": {},
   "outputs": [
    {
     "data": {
      "text/html": [
       "<div>\n",
       "<style scoped>\n",
       "    .dataframe tbody tr th:only-of-type {\n",
       "        vertical-align: middle;\n",
       "    }\n",
       "\n",
       "    .dataframe tbody tr th {\n",
       "        vertical-align: top;\n",
       "    }\n",
       "\n",
       "    .dataframe thead th {\n",
       "        text-align: right;\n",
       "    }\n",
       "</style>\n",
       "<table border=\"1\" class=\"dataframe\">\n",
       "  <thead>\n",
       "    <tr style=\"text-align: right;\">\n",
       "      <th></th>\n",
       "      <th>recency</th>\n",
       "      <th>frequency</th>\n",
       "      <th>monetary_value</th>\n",
       "    </tr>\n",
       "    <tr>\n",
       "      <th>customer_id</th>\n",
       "      <th></th>\n",
       "      <th></th>\n",
       "      <th></th>\n",
       "    </tr>\n",
       "  </thead>\n",
       "  <tbody>\n",
       "    <tr>\n",
       "      <th>CS1112</th>\n",
       "      <td>77.0</td>\n",
       "      <td>15</td>\n",
       "      <td>1012</td>\n",
       "    </tr>\n",
       "    <tr>\n",
       "      <th>CS1113</th>\n",
       "      <td>51.0</td>\n",
       "      <td>20</td>\n",
       "      <td>1490</td>\n",
       "    </tr>\n",
       "    <tr>\n",
       "      <th>CS1114</th>\n",
       "      <td>48.0</td>\n",
       "      <td>19</td>\n",
       "      <td>1432</td>\n",
       "    </tr>\n",
       "    <tr>\n",
       "      <th>CS1115</th>\n",
       "      <td>27.0</td>\n",
       "      <td>22</td>\n",
       "      <td>1659</td>\n",
       "    </tr>\n",
       "    <tr>\n",
       "      <th>CS1116</th>\n",
       "      <td>219.0</td>\n",
       "      <td>13</td>\n",
       "      <td>857</td>\n",
       "    </tr>\n",
       "  </tbody>\n",
       "</table>\n",
       "</div>"
      ],
      "text/plain": [
       "             recency  frequency  monetary_value\n",
       "customer_id                                    \n",
       "CS1112          77.0         15            1012\n",
       "CS1113          51.0         20            1490\n",
       "CS1114          48.0         19            1432\n",
       "CS1115          27.0         22            1659\n",
       "CS1116         219.0         13             857"
      ]
     },
     "execution_count": 20,
     "metadata": {},
     "output_type": "execute_result"
    }
   ],
   "source": [
    "rfmTable.head()"
   ]
  },
  {
   "cell_type": "code",
   "execution_count": 21,
   "id": "43334352",
   "metadata": {},
   "outputs": [
    {
     "name": "stdout",
     "output_type": "stream",
     "text": [
      "      recency  frequency  monetary_value\n",
      "0.25     38.0       14.0           781.0\n",
      "0.50     69.0       18.0          1227.0\n",
      "0.75    127.0       22.0          1520.0 <class 'pandas.core.frame.DataFrame'>\n"
     ]
    }
   ],
   "source": [
    "\n",
    "\n",
    "quartiles = rfmTable.quantile(q=[0.25,0.50,0.75])\n",
    "print(quartiles, type(quartiles))\n",
    "\n"
   ]
  },
  {
   "cell_type": "code",
   "execution_count": 22,
   "id": "1b7200cb",
   "metadata": {},
   "outputs": [
    {
     "data": {
      "text/plain": [
       "{'recency': {0.25: 38.0, 0.5: 69.0, 0.75: 127.0},\n",
       " 'frequency': {0.25: 14.0, 0.5: 18.0, 0.75: 22.0},\n",
       " 'monetary_value': {0.25: 781.0, 0.5: 1227.0, 0.75: 1520.0}}"
      ]
     },
     "execution_count": 22,
     "metadata": {},
     "output_type": "execute_result"
    }
   ],
   "source": [
    "quartiles=quartiles.to_dict()\n",
    "quartiles"
   ]
  },
  {
   "cell_type": "code",
   "execution_count": 23,
   "id": "edeeeff1",
   "metadata": {},
   "outputs": [],
   "source": [
    "## for Recency \n",
    "\n",
    "def RClass(x,p,d):\n",
    "    if x <= d[p][0.25]:\n",
    "        return 1\n",
    "    elif x <= d[p][0.50]:\n",
    "        return 2\n",
    "    elif x <= d[p][0.75]: \n",
    "        return 3\n",
    "    else:\n",
    "        return 4\n",
    "    \n",
    "## for Frequency and Monetary value \n",
    "\n",
    "def FMClass(x,p,d):\n",
    "    if x <= d[p][0.25]:\n",
    "        return 4\n",
    "    elif x <= d[p][0.50]:\n",
    "        return 3\n",
    "    elif x <= d[p][0.75]: \n",
    "        return 2\n",
    "    else:\n",
    "        return 1  "
   ]
  },
  {
   "cell_type": "code",
   "execution_count": 24,
   "id": "cf807ffa",
   "metadata": {},
   "outputs": [],
   "source": [
    "rfmSeg = rfmTable\n",
    "rfmSeg['R_Quartile'] = rfmSeg['recency'].apply(RClass, args=('recency',quartiles,))\n",
    "rfmSeg['F_Quartile'] = rfmSeg['frequency'].apply(FMClass, args=('frequency',quartiles,))\n",
    "rfmSeg['M_Quartile'] = rfmSeg['monetary_value'].apply(FMClass, args=('monetary_value',quartiles,))"
   ]
  },
  {
   "cell_type": "code",
   "execution_count": 25,
   "id": "fcb2c787",
   "metadata": {},
   "outputs": [],
   "source": [
    "\n",
    "\n",
    "rfmSeg['RFMClass'] = rfmSeg.R_Quartile.map(str) \\\n",
    "                            + rfmSeg.F_Quartile.map(str) \\\n",
    "                            + rfmSeg.M_Quartile.map(str)\n",
    "\n"
   ]
  },
  {
   "cell_type": "code",
   "execution_count": 26,
   "id": "ca2e6713",
   "metadata": {},
   "outputs": [
    {
     "data": {
      "text/html": [
       "<div>\n",
       "<style scoped>\n",
       "    .dataframe tbody tr th:only-of-type {\n",
       "        vertical-align: middle;\n",
       "    }\n",
       "\n",
       "    .dataframe tbody tr th {\n",
       "        vertical-align: top;\n",
       "    }\n",
       "\n",
       "    .dataframe thead th {\n",
       "        text-align: right;\n",
       "    }\n",
       "</style>\n",
       "<table border=\"1\" class=\"dataframe\">\n",
       "  <thead>\n",
       "    <tr style=\"text-align: right;\">\n",
       "      <th></th>\n",
       "      <th>recency</th>\n",
       "      <th>frequency</th>\n",
       "      <th>monetary_value</th>\n",
       "      <th>R_Quartile</th>\n",
       "      <th>F_Quartile</th>\n",
       "      <th>M_Quartile</th>\n",
       "      <th>RFMClass</th>\n",
       "    </tr>\n",
       "    <tr>\n",
       "      <th>customer_id</th>\n",
       "      <th></th>\n",
       "      <th></th>\n",
       "      <th></th>\n",
       "      <th></th>\n",
       "      <th></th>\n",
       "      <th></th>\n",
       "      <th></th>\n",
       "    </tr>\n",
       "  </thead>\n",
       "  <tbody>\n",
       "    <tr>\n",
       "      <th>CS1112</th>\n",
       "      <td>77.0</td>\n",
       "      <td>15</td>\n",
       "      <td>1012</td>\n",
       "      <td>3</td>\n",
       "      <td>3</td>\n",
       "      <td>3</td>\n",
       "      <td>333</td>\n",
       "    </tr>\n",
       "    <tr>\n",
       "      <th>CS1113</th>\n",
       "      <td>51.0</td>\n",
       "      <td>20</td>\n",
       "      <td>1490</td>\n",
       "      <td>2</td>\n",
       "      <td>2</td>\n",
       "      <td>2</td>\n",
       "      <td>222</td>\n",
       "    </tr>\n",
       "    <tr>\n",
       "      <th>CS1114</th>\n",
       "      <td>48.0</td>\n",
       "      <td>19</td>\n",
       "      <td>1432</td>\n",
       "      <td>2</td>\n",
       "      <td>2</td>\n",
       "      <td>2</td>\n",
       "      <td>222</td>\n",
       "    </tr>\n",
       "    <tr>\n",
       "      <th>CS1115</th>\n",
       "      <td>27.0</td>\n",
       "      <td>22</td>\n",
       "      <td>1659</td>\n",
       "      <td>1</td>\n",
       "      <td>2</td>\n",
       "      <td>1</td>\n",
       "      <td>121</td>\n",
       "    </tr>\n",
       "    <tr>\n",
       "      <th>CS1116</th>\n",
       "      <td>219.0</td>\n",
       "      <td>13</td>\n",
       "      <td>857</td>\n",
       "      <td>4</td>\n",
       "      <td>4</td>\n",
       "      <td>3</td>\n",
       "      <td>443</td>\n",
       "    </tr>\n",
       "  </tbody>\n",
       "</table>\n",
       "</div>"
      ],
      "text/plain": [
       "             recency  frequency  monetary_value  R_Quartile  F_Quartile  \\\n",
       "customer_id                                                               \n",
       "CS1112          77.0         15            1012           3           3   \n",
       "CS1113          51.0         20            1490           2           2   \n",
       "CS1114          48.0         19            1432           2           2   \n",
       "CS1115          27.0         22            1659           1           2   \n",
       "CS1116         219.0         13             857           4           4   \n",
       "\n",
       "             M_Quartile RFMClass  \n",
       "customer_id                       \n",
       "CS1112                3      333  \n",
       "CS1113                2      222  \n",
       "CS1114                2      222  \n",
       "CS1115                1      121  \n",
       "CS1116                3      443  "
      ]
     },
     "execution_count": 26,
     "metadata": {},
     "output_type": "execute_result"
    }
   ],
   "source": [
    "rfmSeg.head()"
   ]
  },
  {
   "cell_type": "code",
   "execution_count": 27,
   "id": "fd9037a6",
   "metadata": {},
   "outputs": [
    {
     "data": {
      "text/html": [
       "<div>\n",
       "<style scoped>\n",
       "    .dataframe tbody tr th:only-of-type {\n",
       "        vertical-align: middle;\n",
       "    }\n",
       "\n",
       "    .dataframe tbody tr th {\n",
       "        vertical-align: top;\n",
       "    }\n",
       "\n",
       "    .dataframe thead th {\n",
       "        text-align: right;\n",
       "    }\n",
       "</style>\n",
       "<table border=\"1\" class=\"dataframe\">\n",
       "  <thead>\n",
       "    <tr style=\"text-align: right;\">\n",
       "      <th></th>\n",
       "      <th>recency</th>\n",
       "      <th>frequency</th>\n",
       "      <th>monetary_value</th>\n",
       "      <th>R_Quartile</th>\n",
       "      <th>F_Quartile</th>\n",
       "      <th>M_Quartile</th>\n",
       "      <th>RFMClass</th>\n",
       "    </tr>\n",
       "    <tr>\n",
       "      <th>customer_id</th>\n",
       "      <th></th>\n",
       "      <th></th>\n",
       "      <th></th>\n",
       "      <th></th>\n",
       "      <th></th>\n",
       "      <th></th>\n",
       "      <th></th>\n",
       "    </tr>\n",
       "  </thead>\n",
       "  <tbody>\n",
       "    <tr>\n",
       "      <th>CS4660</th>\n",
       "      <td>26.0</td>\n",
       "      <td>33</td>\n",
       "      <td>2527</td>\n",
       "      <td>1</td>\n",
       "      <td>1</td>\n",
       "      <td>1</td>\n",
       "      <td>111</td>\n",
       "    </tr>\n",
       "    <tr>\n",
       "      <th>CS4608</th>\n",
       "      <td>16.0</td>\n",
       "      <td>32</td>\n",
       "      <td>2449</td>\n",
       "      <td>1</td>\n",
       "      <td>1</td>\n",
       "      <td>1</td>\n",
       "      <td>111</td>\n",
       "    </tr>\n",
       "    <tr>\n",
       "      <th>CS5555</th>\n",
       "      <td>25.0</td>\n",
       "      <td>31</td>\n",
       "      <td>2439</td>\n",
       "      <td>1</td>\n",
       "      <td>1</td>\n",
       "      <td>1</td>\n",
       "      <td>111</td>\n",
       "    </tr>\n",
       "    <tr>\n",
       "      <th>CS4540</th>\n",
       "      <td>16.0</td>\n",
       "      <td>32</td>\n",
       "      <td>2361</td>\n",
       "      <td>1</td>\n",
       "      <td>1</td>\n",
       "      <td>1</td>\n",
       "      <td>111</td>\n",
       "    </tr>\n",
       "    <tr>\n",
       "      <th>CS4998</th>\n",
       "      <td>25.0</td>\n",
       "      <td>34</td>\n",
       "      <td>2358</td>\n",
       "      <td>1</td>\n",
       "      <td>1</td>\n",
       "      <td>1</td>\n",
       "      <td>111</td>\n",
       "    </tr>\n",
       "    <tr>\n",
       "      <th>...</th>\n",
       "      <td>...</td>\n",
       "      <td>...</td>\n",
       "      <td>...</td>\n",
       "      <td>...</td>\n",
       "      <td>...</td>\n",
       "      <td>...</td>\n",
       "      <td>...</td>\n",
       "    </tr>\n",
       "    <tr>\n",
       "      <th>CS7224</th>\n",
       "      <td>131.0</td>\n",
       "      <td>4</td>\n",
       "      <td>191</td>\n",
       "      <td>4</td>\n",
       "      <td>4</td>\n",
       "      <td>4</td>\n",
       "      <td>444</td>\n",
       "    </tr>\n",
       "    <tr>\n",
       "      <th>CS7891</th>\n",
       "      <td>490.0</td>\n",
       "      <td>6</td>\n",
       "      <td>188</td>\n",
       "      <td>4</td>\n",
       "      <td>4</td>\n",
       "      <td>4</td>\n",
       "      <td>444</td>\n",
       "    </tr>\n",
       "    <tr>\n",
       "      <th>CS8841</th>\n",
       "      <td>234.0</td>\n",
       "      <td>5</td>\n",
       "      <td>181</td>\n",
       "      <td>4</td>\n",
       "      <td>4</td>\n",
       "      <td>4</td>\n",
       "      <td>444</td>\n",
       "    </tr>\n",
       "    <tr>\n",
       "      <th>CS8559</th>\n",
       "      <td>404.0</td>\n",
       "      <td>4</td>\n",
       "      <td>157</td>\n",
       "      <td>4</td>\n",
       "      <td>4</td>\n",
       "      <td>4</td>\n",
       "      <td>444</td>\n",
       "    </tr>\n",
       "    <tr>\n",
       "      <th>CS7333</th>\n",
       "      <td>197.0</td>\n",
       "      <td>4</td>\n",
       "      <td>149</td>\n",
       "      <td>4</td>\n",
       "      <td>4</td>\n",
       "      <td>4</td>\n",
       "      <td>444</td>\n",
       "    </tr>\n",
       "  </tbody>\n",
       "</table>\n",
       "<p>6889 rows × 7 columns</p>\n",
       "</div>"
      ],
      "text/plain": [
       "             recency  frequency  monetary_value  R_Quartile  F_Quartile  \\\n",
       "customer_id                                                               \n",
       "CS4660          26.0         33            2527           1           1   \n",
       "CS4608          16.0         32            2449           1           1   \n",
       "CS5555          25.0         31            2439           1           1   \n",
       "CS4540          16.0         32            2361           1           1   \n",
       "CS4998          25.0         34            2358           1           1   \n",
       "...              ...        ...             ...         ...         ...   \n",
       "CS7224         131.0          4             191           4           4   \n",
       "CS7891         490.0          6             188           4           4   \n",
       "CS8841         234.0          5             181           4           4   \n",
       "CS8559         404.0          4             157           4           4   \n",
       "CS7333         197.0          4             149           4           4   \n",
       "\n",
       "             M_Quartile RFMClass  \n",
       "customer_id                       \n",
       "CS4660                1      111  \n",
       "CS4608                1      111  \n",
       "CS5555                1      111  \n",
       "CS4540                1      111  \n",
       "CS4998                1      111  \n",
       "...                 ...      ...  \n",
       "CS7224                4      444  \n",
       "CS7891                4      444  \n",
       "CS8841                4      444  \n",
       "CS8559                4      444  \n",
       "CS7333                4      444  \n",
       "\n",
       "[6889 rows x 7 columns]"
      ]
     },
     "execution_count": 27,
     "metadata": {},
     "output_type": "execute_result"
    }
   ],
   "source": [
    "rfmSeg.sort_values(by=['RFMClass', 'monetary_value'], ascending=[True, False])"
   ]
  },
  {
   "cell_type": "code",
   "execution_count": 29,
   "id": "f956541c",
   "metadata": {},
   "outputs": [
    {
     "data": {
      "text/plain": [
       "RFMClass\n",
       "111    1817.589041\n",
       "112    1467.318182\n",
       "113    1142.750000\n",
       "121    1597.562500\n",
       "122    1401.095930\n",
       "123    1025.877193\n",
       "124     748.200000\n",
       "132    1301.430000\n",
       "133    1071.361314\n",
       "134     671.181818\n",
       "143     950.555556\n",
       "144     523.268398\n",
       "211    1796.046632\n",
       "212    1476.875000\n",
       "213    1109.500000\n",
       "221    1602.393162\n",
       "222    1391.365696\n",
       "223    1010.500000\n",
       "224     703.750000\n",
       "232    1302.863636\n",
       "233    1074.155102\n",
       "234     686.000000\n",
       "243     922.727273\n",
       "244     523.476378\n",
       "311    1810.944615\n",
       "312    1478.208333\n",
       "313    1016.333333\n",
       "321    1591.704082\n",
       "322    1398.300633\n",
       "323    1019.773585\n",
       "324     748.000000\n",
       "332    1297.983740\n",
       "333    1083.261324\n",
       "334     681.391753\n",
       "343     944.729167\n",
       "344     514.339806\n",
       "411    1796.797546\n",
       "412    1486.666667\n",
       "413    1036.000000\n",
       "421    1589.954545\n",
       "422    1386.672131\n",
       "423     996.775000\n",
       "424     744.000000\n",
       "432    1297.728155\n",
       "433    1083.249135\n",
       "434     682.339806\n",
       "443     931.705882\n",
       "444     501.283636\n",
       "Name: monetary_value, dtype: float64"
      ]
     },
     "execution_count": 29,
     "metadata": {},
     "output_type": "execute_result"
    }
   ],
   "source": [
    "rfmSeg.groupby('RFMClass').agg('monetary_value').mean()"
   ]
  },
  {
   "cell_type": "code",
   "execution_count": 30,
   "id": "4d7160fb",
   "metadata": {},
   "outputs": [
    {
     "name": "stdout",
     "output_type": "stream",
     "text": [
      "<class 'pandas.core.frame.DataFrame'>\n",
      "Index: 6889 entries, CS1112 to CS9000\n",
      "Data columns (total 8 columns):\n",
      " #   Column          Non-Null Count  Dtype  \n",
      "---  ------          --------------  -----  \n",
      " 0   recency         6889 non-null   float64\n",
      " 1   frequency       6889 non-null   int64  \n",
      " 2   monetary_value  6889 non-null   int64  \n",
      " 3   R_Quartile      6889 non-null   int64  \n",
      " 4   F_Quartile      6889 non-null   int64  \n",
      " 5   M_Quartile      6889 non-null   int64  \n",
      " 6   RFMClass        6889 non-null   object \n",
      " 7   Total Score     6889 non-null   int64  \n",
      "dtypes: float64(1), int64(6), object(1)\n",
      "memory usage: 484.4+ KB\n",
      "             recency  frequency  monetary_value  R_Quartile  F_Quartile  \\\n",
      "customer_id                                                               \n",
      "CS1112          77.0         15            1012           3           3   \n",
      "CS1113          51.0         20            1490           2           2   \n",
      "CS1114          48.0         19            1432           2           2   \n",
      "CS1115          27.0         22            1659           1           2   \n",
      "CS1116         219.0         13             857           4           4   \n",
      "\n",
      "             M_Quartile RFMClass  Total Score  \n",
      "customer_id                                    \n",
      "CS1112                3      333            9  \n",
      "CS1113                2      222            6  \n",
      "CS1114                2      222            6  \n",
      "CS1115                1      121            4  \n",
      "CS1116                3      443           11   None\n"
     ]
    }
   ],
   "source": [
    "\n",
    "\n",
    "rfmSeg['Total Score'] = rfmSeg['R_Quartile'] + rfmSeg['F_Quartile'] +rfmSeg['M_Quartile']\n",
    "print(rfmSeg.head(), rfmSeg.info())\n",
    "\n"
   ]
  },
  {
   "cell_type": "code",
   "execution_count": 31,
   "id": "292fdb6a",
   "metadata": {},
   "outputs": [
    {
     "data": {
      "text/plain": [
       "Total Score\n",
       "3     1817.589041\n",
       "4     1735.154851\n",
       "5     1595.800248\n",
       "6     1466.662252\n",
       "7     1264.107820\n",
       "8     1136.062280\n",
       "9      892.495146\n",
       "10     818.934871\n",
       "11     649.496350\n",
       "12     501.283636\n",
       "Name: monetary_value, dtype: float64"
      ]
     },
     "execution_count": 31,
     "metadata": {},
     "output_type": "execute_result"
    }
   ],
   "source": [
    "rfmSeg.groupby('Total Score').agg('monetary_value').mean()"
   ]
  },
  {
   "cell_type": "code",
   "execution_count": 32,
   "id": "574fb57f",
   "metadata": {},
   "outputs": [
    {
     "data": {
      "text/plain": [
       "<AxesSubplot:xlabel='Total Score'>"
      ]
     },
     "execution_count": 32,
     "metadata": {},
     "output_type": "execute_result"
    },
    {
     "data": {
      "image/png": "[encoded data removed]",
      "text/plain": [
       "<Figure size 432x288 with 1 Axes>"
      ]
     },
     "metadata": {
      "needs_background": "light"
     },
     "output_type": "display_data"
    }
   ],
   "source": [
    "\n",
    "\n",
    "rfmSeg.groupby('Total Score').agg('monetary_value').mean().plot(kind='bar', colormap='Blues_r')\n",
    "\n"
   ]
  },
  {
   "cell_type": "code",
   "execution_count": 33,
   "id": "6a23b5a1",
   "metadata": {},
   "outputs": [
    {
     "data": {
      "text/plain": [
       "<AxesSubplot:xlabel='Total Score'>"
      ]
     },
     "execution_count": 33,
     "metadata": {},
     "output_type": "execute_result"
    },
    {
     "data": {
      "image/png": "[encoded data removed]",
      "text/plain": [
       "<Figure size 432x288 with 1 Axes>"
      ]
     },
     "metadata": {
      "needs_background": "light"
     },
     "output_type": "display_data"
    }
   ],
   "source": [
    "\n",
    "\n",
    "rfmSeg.groupby('Total Score').agg('frequency').mean().plot(kind='bar', colormap='Blues_r')\n",
    "\n"
   ]
  },
  {
   "cell_type": "code",
   "execution_count": 34,
   "id": "67a555fe",
   "metadata": {},
   "outputs": [
    {
     "data": {
      "text/plain": [
       "<AxesSubplot:xlabel='Total Score'>"
      ]
     },
     "execution_count": 34,
     "metadata": {},
     "output_type": "execute_result"
    },
    {
     "data": {
      "image/png": "[encoded data removed]",
      "text/plain": [
       "<Figure size 432x288 with 1 Axes>"
      ]
     },
     "metadata": {
      "needs_background": "light"
     },
     "output_type": "display_data"
    }
   ],
   "source": [
    "\n",
    "\n",
    "rfmSeg.groupby('Total Score').agg('recency').mean().plot(kind='bar', colormap='Blues_r')\n",
    "\n"
   ]
  },
  {
   "cell_type": "markdown",
   "id": "0f97c046",
   "metadata": {},
   "source": [
    "Ultimate test of RFM score is the impact on any consumer behaviour. Let's check its impact on the response of customers to a promotion campaign."
   ]
  },
  {
   "cell_type": "code",
   "execution_count": 38,
   "id": "6ed33e45",
   "metadata": {},
   "outputs": [
    {
     "name": "stdout",
     "output_type": "stream",
     "text": [
      "<class 'pandas.core.frame.DataFrame'>\n",
      "Int64Index: 6884 entries, 0 to 6883\n",
      "Data columns (total 2 columns):\n",
      " #   Column       Non-Null Count  Dtype \n",
      "---  ------       --------------  ----- \n",
      " 0   customer_id  6884 non-null   object\n",
      " 1   response     6884 non-null   int64 \n",
      "dtypes: int64(1), object(1)\n",
      "memory usage: 161.3+ KB\n",
      "  customer_id  response\n",
      "0      CS1112         0\n",
      "1      CS1113         0\n",
      "2      CS1114         1\n",
      "3      CS1115         1\n",
      "4      CS1116         1 None\n"
     ]
    }
   ],
   "source": [
    "\n",
    "res = pd.read_csv(r'C:\\Users\\Amol Tare\\Desktop\\Retail_Data_Response.csv')\n",
    "res.sort_values('customer_id', inplace=True)\n",
    "\n",
    "print(res.head(), res.info())"
   ]
  },
  {
   "cell_type": "code",
   "execution_count": 39,
   "id": "be33b874",
   "metadata": {},
   "outputs": [
    {
     "data": {
      "text/html": [
       "<div>\n",
       "<style scoped>\n",
       "    .dataframe tbody tr th:only-of-type {\n",
       "        vertical-align: middle;\n",
       "    }\n",
       "\n",
       "    .dataframe tbody tr th {\n",
       "        vertical-align: top;\n",
       "    }\n",
       "\n",
       "    .dataframe thead th {\n",
       "        text-align: right;\n",
       "    }\n",
       "</style>\n",
       "<table border=\"1\" class=\"dataframe\">\n",
       "  <thead>\n",
       "    <tr style=\"text-align: right;\">\n",
       "      <th></th>\n",
       "      <th>index</th>\n",
       "      <th>customer_id</th>\n",
       "      <th>recency</th>\n",
       "      <th>frequency</th>\n",
       "      <th>monetary_value</th>\n",
       "      <th>R_Quartile</th>\n",
       "      <th>F_Quartile</th>\n",
       "      <th>M_Quartile</th>\n",
       "      <th>RFMClass</th>\n",
       "      <th>Total Score</th>\n",
       "    </tr>\n",
       "  </thead>\n",
       "  <tbody>\n",
       "    <tr>\n",
       "      <th>0</th>\n",
       "      <td>0</td>\n",
       "      <td>CS1112</td>\n",
       "      <td>77.0</td>\n",
       "      <td>15</td>\n",
       "      <td>1012</td>\n",
       "      <td>3</td>\n",
       "      <td>3</td>\n",
       "      <td>3</td>\n",
       "      <td>333</td>\n",
       "      <td>9</td>\n",
       "    </tr>\n",
       "    <tr>\n",
       "      <th>1</th>\n",
       "      <td>1</td>\n",
       "      <td>CS1113</td>\n",
       "      <td>51.0</td>\n",
       "      <td>20</td>\n",
       "      <td>1490</td>\n",
       "      <td>2</td>\n",
       "      <td>2</td>\n",
       "      <td>2</td>\n",
       "      <td>222</td>\n",
       "      <td>6</td>\n",
       "    </tr>\n",
       "    <tr>\n",
       "      <th>2</th>\n",
       "      <td>2</td>\n",
       "      <td>CS1114</td>\n",
       "      <td>48.0</td>\n",
       "      <td>19</td>\n",
       "      <td>1432</td>\n",
       "      <td>2</td>\n",
       "      <td>2</td>\n",
       "      <td>2</td>\n",
       "      <td>222</td>\n",
       "      <td>6</td>\n",
       "    </tr>\n",
       "    <tr>\n",
       "      <th>3</th>\n",
       "      <td>3</td>\n",
       "      <td>CS1115</td>\n",
       "      <td>27.0</td>\n",
       "      <td>22</td>\n",
       "      <td>1659</td>\n",
       "      <td>1</td>\n",
       "      <td>2</td>\n",
       "      <td>1</td>\n",
       "      <td>121</td>\n",
       "      <td>4</td>\n",
       "    </tr>\n",
       "    <tr>\n",
       "      <th>4</th>\n",
       "      <td>4</td>\n",
       "      <td>CS1116</td>\n",
       "      <td>219.0</td>\n",
       "      <td>13</td>\n",
       "      <td>857</td>\n",
       "      <td>4</td>\n",
       "      <td>4</td>\n",
       "      <td>3</td>\n",
       "      <td>443</td>\n",
       "      <td>11</td>\n",
       "    </tr>\n",
       "  </tbody>\n",
       "</table>\n",
       "</div>"
      ],
      "text/plain": [
       "   index customer_id  recency  frequency  monetary_value  R_Quartile  \\\n",
       "0      0      CS1112     77.0         15            1012           3   \n",
       "1      1      CS1113     51.0         20            1490           2   \n",
       "2      2      CS1114     48.0         19            1432           2   \n",
       "3      3      CS1115     27.0         22            1659           1   \n",
       "4      4      CS1116    219.0         13             857           4   \n",
       "\n",
       "   F_Quartile  M_Quartile RFMClass  Total Score  \n",
       "0           3           3      333            9  \n",
       "1           2           2      222            6  \n",
       "2           2           2      222            6  \n",
       "3           2           1      121            4  \n",
       "4           4           3      443           11  "
      ]
     },
     "execution_count": 39,
     "metadata": {},
     "output_type": "execute_result"
    }
   ],
   "source": [
    "rfmSeg.reset_index(inplace=True)\n",
    "rfmSeg.head()"
   ]
  },
  {
   "cell_type": "code",
   "execution_count": 40,
   "id": "b8b57241",
   "metadata": {},
   "outputs": [],
   "source": [
    "rfmSeg.sort_values('customer_id', inplace=True)\n",
    "rfm2=pd.merge(rfmSeg, res, on='customer_id')"
   ]
  },
  {
   "cell_type": "code",
   "execution_count": 41,
   "id": "0badc49d",
   "metadata": {},
   "outputs": [
    {
     "name": "stdout",
     "output_type": "stream",
     "text": [
      "<class 'pandas.core.frame.DataFrame'>\n",
      "Int64Index: 6884 entries, 0 to 6883\n",
      "Data columns (total 11 columns):\n",
      " #   Column          Non-Null Count  Dtype  \n",
      "---  ------          --------------  -----  \n",
      " 0   index           6884 non-null   int64  \n",
      " 1   customer_id     6884 non-null   object \n",
      " 2   recency         6884 non-null   float64\n",
      " 3   frequency       6884 non-null   int64  \n",
      " 4   monetary_value  6884 non-null   int64  \n",
      " 5   R_Quartile      6884 non-null   int64  \n",
      " 6   F_Quartile      6884 non-null   int64  \n",
      " 7   M_Quartile      6884 non-null   int64  \n",
      " 8   RFMClass        6884 non-null   object \n",
      " 9   Total Score     6884 non-null   int64  \n",
      " 10  response        6884 non-null   int64  \n",
      "dtypes: float64(1), int64(8), object(2)\n",
      "memory usage: 645.4+ KB\n"
     ]
    }
   ],
   "source": [
    "rfm2.info()\n"
   ]
  },
  {
   "cell_type": "code",
   "execution_count": 42,
   "id": "7fc2103f",
   "metadata": {},
   "outputs": [
    {
     "data": {
      "text/plain": [
       "Text(0, 0.5, 'Proportion of Responders')"
      ]
     },
     "execution_count": 42,
     "metadata": {},
     "output_type": "execute_result"
    },
    {
     "data": {
      "image/png": "[encoded data removed]",
      "text/plain": [
       "<Figure size 432x288 with 1 Axes>"
      ]
     },
     "metadata": {
      "needs_background": "light"
     },
     "output_type": "display_data"
    }
   ],
   "source": [
    "ax=rfm2.groupby('Total Score').agg('response').mean().plot(kind='bar', colormap='copper_r')\n",
    "ax.set_xlabel(\"Total Score\")\n",
    "ax.set_ylabel(\"Proportion of Responders\")\n"
   ]
  },
  {
   "cell_type": "code",
   "execution_count": null,
   "id": "2586a544",
   "metadata": {},
   "outputs": [],
   "source": []
  }
 ],
 "metadata": {
  "kernelspec": {
   "display_name": "Python 3 (ipykernel)",
   "language": "python",
   "name": "python3"
  },
  "language_info": {
   "codemirror_mode": {
    "name": "ipython",
    "version": 3
   },
   "file_extension": ".py",
   "mimetype": "text/x-python",
   "name": "python",
   "nbconvert_exporter": "python",
   "pygments_lexer": "ipython3",
   "version": "3.7.1"
  }
 },
 "nbformat": 4,
 "nbformat_minor": 5
}
